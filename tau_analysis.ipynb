{
 "cells": [
  {
   "cell_type": "code",
   "execution_count": 235,
   "metadata": {
    "collapsed": true
   },
   "outputs": [],
   "source": [
    "import numpy as np\n",
    "import matplotlib.pyplot as plt\n",
    "from scipy import stats\n",
    "import csv"
   ]
  },
  {
   "cell_type": "code",
   "execution_count": 208,
   "metadata": {
    "collapsed": true
   },
   "outputs": [],
   "source": [
    "# Load data from netlogo's behaviorspace \"spreadsheet\" output\n",
    "def loadBehaviorspace(filename):\n",
    "    lines = []\n",
    "    with open(filename, 'rb') as csvfile:\n",
    "         reader = csv.reader(csvfile, delimiter=',', quotechar='\"')\n",
    "         for row in reader:\n",
    "             lines.append(row)\n",
    "\n",
    "    metadata = lines[0:5]\n",
    "    \n",
    "    _data = lines[6:]\n",
    "    _data = np.array(lines[6:], dtype=object).T\n",
    "    for i in range(1, len(_data)):\n",
    "        for j in range(1, len(_data[i])):\n",
    "            try:\n",
    "                _data[i][j] = float(_data[i][j])\n",
    "            except:\n",
    "                continue\n",
    "    data = {}\n",
    "    for col in _data:\n",
    "        data[col[0]] = np.array(col[1:], dtype=float)\n",
    "            \n",
    "    return (metadata, data)"
   ]
  },
  {
   "cell_type": "code",
   "execution_count": null,
   "metadata": {
    "collapsed": true
   },
   "outputs": [],
   "source": [
    "\n"
   ]
  },
  {
   "cell_type": "code",
   "execution_count": 357,
   "metadata": {},
   "outputs": [],
   "source": [
    "#metadata,data = loadBehaviorspace(\"./behaviorspace_data/tau_turn-taker.csv\")\n",
    "metadata,data = loadBehaviorspace(\"./behaviorspace_data/mutation_adaptive-agent-2_1_1_m_pools.csv\")\n"
   ]
  },
  {
   "cell_type": "markdown",
   "metadata": {},
   "source": [
    "## Final total wealth, across tau"
   ]
  },
  {
   "cell_type": "code",
   "execution_count": 360,
   "metadata": {},
   "outputs": [
    {
     "name": "stdout",
     "output_type": "stream",
     "text": [
      "\n",
      "intercept = nan\n",
      "slope =     nan\n"
     ]
    },
    {
     "data": {
      "image/png": "[encoded data removed]",
      "text/plain": [
       "<matplotlib.figure.Figure at 0x7f5274288490>"
      ]
     },
     "metadata": {},
     "output_type": "display_data"
    },
    {
     "name": "stdout",
     "output_type": "stream",
     "text": [
      "p = 1.0\n",
      "r = 0.0\n",
      "stderr = inf\n"
     ]
    }
   ],
   "source": [
    "final_step_mask = [step == 100 for step in data['[step]']]\n",
    "final_tau = np.extract(final_step_mask, data['tau'])\n",
    "final_total_wealth = np.extract(final_step_mask, data['total-wealth'])\n",
    "\n",
    "final_mutation_magnitude = np.extract(final_step_mask, data['mutation-magnitude'])\n",
    "\n",
    "# linear regression\n",
    "#slope, intercept, r_value, p_value, std_err = stats.linregress(final_tau, final_total_wealth)\n",
    "\n",
    "print \"\"\n",
    "print \"intercept =\", round(intercept)\n",
    "print \"slope =    \", round(slope)\n",
    "\n",
    "#plt.plot(final_tau, intercept + slope*final_tau, 'r', label='fitted line')\n",
    "plt.scatter(final_mutation_magnitude, final_total_wealth)\n",
    "plt.ylim(0, 10000)\n",
    "plt.show()\n",
    "\n",
    "print \"p =\", p_value\n",
    "print \"r =\", round(r_value, 3)\n",
    "print \"stderr =\",round(std_err, 1)"
   ]
  },
  {
   "cell_type": "code",
   "execution_count": null,
   "metadata": {},
   "outputs": [],
   "source": []
  },
  {
   "cell_type": "markdown",
   "metadata": {},
   "source": [
    "..."
   ]
  },
  {
   "cell_type": "markdown",
   "metadata": {},
   "source": [
    "## Final wealth distribution, across tau\n",
    "Per agent type"
   ]
  },
  {
   "cell_type": "code",
   "execution_count": 341,
   "metadata": {},
   "outputs": [
    {
     "ename": "KeyError",
     "evalue": "'sum [wealth] of turtles with [ strategy = 0 ]'",
     "output_type": "error",
     "traceback": [
      "\u001b[0;31m---------------------------------------------------------------------------\u001b[0m",
      "\u001b[0;31mKeyError\u001b[0m                                  Traceback (most recent call last)",
      "\u001b[0;32m<ipython-input-341-4a118dda9aaf>\u001b[0m in \u001b[0;36m<module>\u001b[0;34m()\u001b[0m\n\u001b[1;32m      1\u001b[0m \u001b[0mfinal_step_mask\u001b[0m \u001b[0;34m=\u001b[0m \u001b[0;34m[\u001b[0m\u001b[0mstep\u001b[0m \u001b[0;34m==\u001b[0m \u001b[0;36m100\u001b[0m \u001b[0;32mfor\u001b[0m \u001b[0mstep\u001b[0m \u001b[0;32min\u001b[0m \u001b[0mdata\u001b[0m\u001b[0;34m[\u001b[0m\u001b[0;34m'[step]'\u001b[0m\u001b[0;34m]\u001b[0m\u001b[0;34m]\u001b[0m\u001b[0;34m\u001b[0m\u001b[0m\n\u001b[1;32m      2\u001b[0m \u001b[0mfinal_tau\u001b[0m \u001b[0;34m=\u001b[0m \u001b[0mnp\u001b[0m\u001b[0;34m.\u001b[0m\u001b[0mextract\u001b[0m\u001b[0;34m(\u001b[0m\u001b[0mfinal_step_mask\u001b[0m\u001b[0;34m,\u001b[0m \u001b[0mdata\u001b[0m\u001b[0;34m[\u001b[0m\u001b[0;34m'tau'\u001b[0m\u001b[0;34m]\u001b[0m\u001b[0;34m)\u001b[0m\u001b[0;34m\u001b[0m\u001b[0m\n\u001b[0;32m----> 3\u001b[0;31m \u001b[0mfinal_wealth_0\u001b[0m \u001b[0;34m=\u001b[0m \u001b[0mnp\u001b[0m\u001b[0;34m.\u001b[0m\u001b[0mextract\u001b[0m\u001b[0;34m(\u001b[0m\u001b[0mfinal_step_mask\u001b[0m\u001b[0;34m,\u001b[0m \u001b[0mdata\u001b[0m\u001b[0;34m[\u001b[0m\u001b[0;34m'sum [wealth] of turtles with [ strategy = 0 ]'\u001b[0m\u001b[0;34m]\u001b[0m\u001b[0;34m)\u001b[0m\u001b[0;34m\u001b[0m\u001b[0m\n\u001b[0m\u001b[1;32m      4\u001b[0m \u001b[0mfinal_wealth_1\u001b[0m \u001b[0;34m=\u001b[0m \u001b[0mnp\u001b[0m\u001b[0;34m.\u001b[0m\u001b[0mextract\u001b[0m\u001b[0;34m(\u001b[0m\u001b[0mfinal_step_mask\u001b[0m\u001b[0;34m,\u001b[0m \u001b[0mdata\u001b[0m\u001b[0;34m[\u001b[0m\u001b[0;34m'sum [wealth] of turtles with [ strategy = 1 ]'\u001b[0m\u001b[0;34m]\u001b[0m\u001b[0;34m)\u001b[0m\u001b[0;34m\u001b[0m\u001b[0m\n\u001b[1;32m      5\u001b[0m \u001b[0;31m#final_wealth_2 = np.extract(final_step_mask, data['sum [wealth] of turtles with [ strategy = 2 ]'])\u001b[0m\u001b[0;34m\u001b[0m\u001b[0;34m\u001b[0m\u001b[0m\n",
      "\u001b[0;31mKeyError\u001b[0m: 'sum [wealth] of turtles with [ strategy = 0 ]'"
     ]
    }
   ],
   "source": [
    "final_step_mask = [step == 100 for step in data['[step]']]\n",
    "final_tau = np.extract(final_step_mask, data['tau'])\n",
    "final_wealth_0 = np.extract(final_step_mask, data['sum [wealth] of turtles with [ strategy = 0 ]'])\n",
    "final_wealth_1 = np.extract(final_step_mask, data['sum [wealth] of turtles with [ strategy = 1 ]'])\n",
    "#final_wealth_2 = np.extract(final_step_mask, data['sum [wealth] of turtles with [ strategy = 2 ]'])\n",
    "#final_wealth_3 = np.extract(final_step_mask, data['sum [wealth] of turtles with [ strategy = 3 ]'])\n",
    "\n",
    "plt.scatter(final_tau, final_wealth_0, color='blue')\n",
    "plt.scatter(final_tau, final_wealth_1, color='red')\n",
    "#plt.scatter(final_tau, final_wealth_2, color='red')\n",
    "#plt.scatter(final_tau, final_wealth_3, color='green')\n",
    "plt.show()"
   ]
  },
  {
   "cell_type": "code",
   "execution_count": null,
   "metadata": {
    "collapsed": true
   },
   "outputs": [],
   "source": []
  },
  {
   "cell_type": "markdown",
   "metadata": {},
   "source": [
    "## Pool breakdowns on final step"
   ]
  },
  {
   "cell_type": "code",
   "execution_count": 354,
   "metadata": {},
   "outputs": [
    {
     "data": {
      "image/png": "[encoded data removed]",
      "text/plain": [
       "<matplotlib.figure.Figure at 0x7f526f999590>"
      ]
     },
     "metadata": {},
     "output_type": "display_data"
    }
   ],
   "source": [
    "final_step_mask = [step == 100 for step in data['[step]']]\n",
    "final_tau = np.extract(final_step_mask, data['tau'])\n",
    "final_pool_count_0 = np.extract(final_step_mask, data['get-for-pool recent-agent-history 0'])\n",
    "final_pool_count_1 = np.extract(final_step_mask, data['get-for-pool recent-agent-history 1'])\n",
    "final_pool_count_2 = np.extract(final_step_mask, data['get-for-pool recent-agent-history 2'])\n",
    "\n",
    "\n",
    "plt.scatter(final_tau, final_pool_count_0, color='green')\n",
    "plt.scatter(final_tau, final_pool_count_1, color='blue')\n",
    "plt.scatter(final_tau, final_pool_count_2, color='red')\n",
    "plt.show()"
   ]
  },
  {
   "cell_type": "code",
   "execution_count": null,
   "metadata": {
    "collapsed": true
   },
   "outputs": [],
   "source": []
  },
  {
   "cell_type": "code",
   "execution_count": 259,
   "metadata": {
    "collapsed": true
   },
   "outputs": [],
   "source": [
    "def break_by_agent_group():\n",
    "    final_step_mask = [step == 100 for step in data['[step]']]\n",
    "    final_tau = data['tau'] * final_step_mask\n",
    "    final_wealth_0 = data['sum [wealth] of turtles with [ strategy = 0 ]'] * final_step_mask\n",
    "    final_wealth_1 = data['sum [wealth] of turtles with [ strategy = 1 ]'] * final_step_mask\n",
    "    final_wealth_2 = data['sum [wealth] of turtles with [ strategy = 2 ]'] * final_step_mask\n",
    "    final_wealth_3 = data['sum [wealth] of turtles with [ strategy = 3 ]'] * final_step_mask\n",
    "\n",
    "    plt.scatter(final_tau, final_wealth_0, color='blue')\n",
    "    plt.scatter(final_tau, final_wealth_1, color='red')\n",
    "    plt.scatter(final_tau, final_wealth_2, color='green')\n",
    "    plt.scatter(final_tau, final_wealth_3, color='blue')\n",
    "    plt.show()"
   ]
  },
  {
   "cell_type": "code",
   "execution_count": 232,
   "metadata": {},
   "outputs": [
    {
     "data": {
      "text/plain": [
       "array([1, 3])"
      ]
     },
     "execution_count": 232,
     "metadata": {},
     "output_type": "execute_result"
    }
   ],
   "source": [
    "np.extract(\n",
    "    [True, False, True],\n",
    "    [1,2,3]\n",
    ")"
   ]
  },
  {
   "cell_type": "code",
   "execution_count": null,
   "metadata": {
    "collapsed": true
   },
   "outputs": [],
   "source": []
  },
  {
   "cell_type": "code",
   "execution_count": null,
   "metadata": {
    "collapsed": true
   },
   "outputs": [],
   "source": []
  }
 ],
 "metadata": {
  "kernelspec": {
   "display_name": "Python 2",
   "language": "python",
   "name": "python2"
  },
  "language_info": {
   "codemirror_mode": {
    "name": "ipython",
    "version": 2
   },
   "file_extension": ".py",
   "mimetype": "text/x-python",
   "name": "python",
   "nbconvert_exporter": "python",
   "pygments_lexer": "ipython2",
   "version": "2.7.12"
  }
 },
 "nbformat": 4,
 "nbformat_minor": 2
}
